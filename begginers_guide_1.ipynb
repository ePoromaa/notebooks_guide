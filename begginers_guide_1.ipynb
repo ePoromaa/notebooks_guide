{
 "cells": [
  {
   "cell_type": "markdown",
   "metadata": {},
   "source": [
    "# An absoulute beginners guide to Notebooks, written by a beginnner. \n",
    "Disclamer: These are just some notes for beginners and myself. They are not necessarily accurate. \n",
    "\n",
    "First, a notebook has cells, each of these can be executed induvidually. \n",
    "A cell can contain text, like this cell, called markdown. I cell can also contain **code** (note how I made the word code bold, that was made using \\* sign).\n",
    "\n",
    "You have 2 modes in a notebook, either your inside a cell, green square around the cell, or you are outside, blue square. \n",
    "When you are outside you can press h to get the help menu. a will produce a cell above and b will produce a cell bellow. While outside, pressing m will make the cell into markdown (text), y will make into a code cell. \n",
    "\n",
    "Now. Let do some code:"
   ]
  },
  {
   "cell_type": "code",
   "execution_count": 23,
   "metadata": {
    "collapsed": true
   },
   "outputs": [],
   "source": [
    "# Here we create a list\n",
    "l = []"
   ]
  },
  {
   "cell_type": "code",
   "execution_count": 32,
   "metadata": {
    "collapsed": false
   },
   "outputs": [
    {
     "name": "stdout",
     "output_type": "stream",
     "text": [
      "[1, 1, 1, 1, 1, 1, 1, 1, 1]\n"
     ]
    }
   ],
   "source": [
    "# Here we add items to the list and print it\n",
    "l.append(1)\n",
    "print(l)"
   ]
  },
  {
   "cell_type": "markdown",
   "metadata": {},
   "source": [
    "This shows a imo key feature with notebooks, namely that you have variables are created globally. \n",
    "\n",
    "You can therefor rerun the above cell and add more and more item to your list. And then you can run the first code cell and empty the list. \n",
    "\n",
    "With larger notebook it becomes very important to keep track of your variables, and there are techniques to do so. More on this later. \n",
    "\n",
    "These were some simple concepts of notebooks, fin. "
   ]
  }
 ],
 "metadata": {
  "kernelspec": {
   "display_name": "Python 2",
   "language": "python",
   "name": "python2"
  },
  "language_info": {
   "codemirror_mode": {
    "name": "ipython",
    "version": 2
   },
   "file_extension": ".py",
   "mimetype": "text/x-python",
   "name": "python",
   "nbconvert_exporter": "python",
   "pygments_lexer": "ipython2",
   "version": "2.7.12"
  }
 },
 "nbformat": 4,
 "nbformat_minor": 1
}
